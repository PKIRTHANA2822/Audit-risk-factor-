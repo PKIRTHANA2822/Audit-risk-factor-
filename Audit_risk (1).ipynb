{
 "cells": [
  {
   "cell_type": "markdown",
   "metadata": {
    "colab_type": "text",
    "id": "_Yz98qVLoJHa"
   },
   "source": [
    "# Import libraries "
   ]
  },
  {
   "cell_type": "code",
   "execution_count": 1,
   "metadata": {
    "colab": {},
    "colab_type": "code",
    "id": "n0wV4JYhoJHb"
   },
   "outputs": [],
   "source": [
    "import numpy as np\n",
    "import pandas as pd\n",
    "import matplotlib.pyplot as plt\n",
    "import seaborn as sns\n",
    "sns.set_style(style='darkgrid')"
   ]
  },
  {
   "cell_type": "markdown",
   "metadata": {
    "colab_type": "text",
    "id": "Hf3iz4hzoJHh"
   },
   "source": [
    "# Import data"
   ]
  },
  {
   "cell_type": "code",
   "execution_count": 2,
   "metadata": {
    "colab": {},
    "colab_type": "code",
    "id": "eBwxksGFoJHj",
    "outputId": "5053a077-08b5-4632-d896-98209664eefc"
   },
   "outputs": [
    {
     "data": {
      "text/html": [
       "<div>\n",
       "<style scoped>\n",
       "    .dataframe tbody tr th:only-of-type {\n",
       "        vertical-align: middle;\n",
       "    }\n",
       "\n",
       "    .dataframe tbody tr th {\n",
       "        vertical-align: top;\n",
       "    }\n",
       "\n",
       "    .dataframe thead th {\n",
       "        text-align: right;\n",
       "    }\n",
       "</style>\n",
       "<table border=\"1\" class=\"dataframe\">\n",
       "  <thead>\n",
       "    <tr style=\"text-align: right;\">\n",
       "      <th></th>\n",
       "      <th>PARA_A</th>\n",
       "      <th>PARA_B</th>\n",
       "      <th>TOTAL</th>\n",
       "      <th>Sector_score</th>\n",
       "      <th>numbers</th>\n",
       "      <th>LOSS_SCORE</th>\n",
       "      <th>Money_Value</th>\n",
       "      <th>History_score</th>\n",
       "      <th>District</th>\n",
       "      <th>Risk</th>\n",
       "    </tr>\n",
       "  </thead>\n",
       "  <tbody>\n",
       "    <tr>\n",
       "      <th>0</th>\n",
       "      <td>4.18</td>\n",
       "      <td>2.50</td>\n",
       "      <td>6.68</td>\n",
       "      <td>3.89</td>\n",
       "      <td>5.0</td>\n",
       "      <td>2</td>\n",
       "      <td>3.38</td>\n",
       "      <td>2</td>\n",
       "      <td>2</td>\n",
       "      <td>1</td>\n",
       "    </tr>\n",
       "    <tr>\n",
       "      <th>1</th>\n",
       "      <td>0.00</td>\n",
       "      <td>4.83</td>\n",
       "      <td>4.83</td>\n",
       "      <td>3.89</td>\n",
       "      <td>5.0</td>\n",
       "      <td>2</td>\n",
       "      <td>0.94</td>\n",
       "      <td>2</td>\n",
       "      <td>2</td>\n",
       "      <td>0</td>\n",
       "    </tr>\n",
       "    <tr>\n",
       "      <th>2</th>\n",
       "      <td>0.51</td>\n",
       "      <td>0.23</td>\n",
       "      <td>0.74</td>\n",
       "      <td>3.89</td>\n",
       "      <td>5.0</td>\n",
       "      <td>2</td>\n",
       "      <td>0.00</td>\n",
       "      <td>2</td>\n",
       "      <td>2</td>\n",
       "      <td>0</td>\n",
       "    </tr>\n",
       "    <tr>\n",
       "      <th>3</th>\n",
       "      <td>0.00</td>\n",
       "      <td>10.80</td>\n",
       "      <td>10.80</td>\n",
       "      <td>3.89</td>\n",
       "      <td>6.0</td>\n",
       "      <td>2</td>\n",
       "      <td>11.75</td>\n",
       "      <td>2</td>\n",
       "      <td>2</td>\n",
       "      <td>1</td>\n",
       "    </tr>\n",
       "    <tr>\n",
       "      <th>4</th>\n",
       "      <td>0.00</td>\n",
       "      <td>0.08</td>\n",
       "      <td>0.08</td>\n",
       "      <td>3.89</td>\n",
       "      <td>5.0</td>\n",
       "      <td>2</td>\n",
       "      <td>0.00</td>\n",
       "      <td>2</td>\n",
       "      <td>2</td>\n",
       "      <td>0</td>\n",
       "    </tr>\n",
       "  </tbody>\n",
       "</table>\n",
       "</div>"
      ],
      "text/plain": [
       "   PARA_A  PARA_B  TOTAL  Sector_score  numbers  LOSS_SCORE  Money_Value  \\\n",
       "0    4.18    2.50   6.68          3.89      5.0           2         3.38   \n",
       "1    0.00    4.83   4.83          3.89      5.0           2         0.94   \n",
       "2    0.51    0.23   0.74          3.89      5.0           2         0.00   \n",
       "3    0.00   10.80  10.80          3.89      6.0           2        11.75   \n",
       "4    0.00    0.08   0.08          3.89      5.0           2         0.00   \n",
       "\n",
       "   History_score  District  Risk  \n",
       "0              2         2     1  \n",
       "1              2         2     0  \n",
       "2              2         2     0  \n",
       "3              2         2     1  \n",
       "4              2         2     0  "
      ]
     },
     "execution_count": 2,
     "metadata": {},
     "output_type": "execute_result"
    }
   ],
   "source": [
    "df = pd.read_csv('risk_factors (2).csv', index_col= 0)\n",
    "df.head()"
   ]
  },
  {
   "cell_type": "markdown",
   "metadata": {
    "colab_type": "text",
    "id": "JFCWA_Z2oJHr"
   },
   "source": [
    "# EDA"
   ]
  },
  {
   "cell_type": "code",
   "execution_count": 3,
   "metadata": {
    "colab": {},
    "colab_type": "code",
    "id": "KIlrqQEYoJHv",
    "outputId": "afac63c4-fda0-4764-a84b-44c0d5ebd5c1"
   },
   "outputs": [
    {
     "name": "stdout",
     "output_type": "stream",
     "text": [
      "<class 'pandas.core.frame.DataFrame'>\n",
      "Index: 776 entries, 0 to 775\n",
      "Data columns (total 10 columns):\n",
      " #   Column         Non-Null Count  Dtype  \n",
      "---  ------         --------------  -----  \n",
      " 0   PARA_A         776 non-null    float64\n",
      " 1   PARA_B         776 non-null    float64\n",
      " 2   TOTAL          776 non-null    float64\n",
      " 3   Sector_score   776 non-null    float64\n",
      " 4   numbers        776 non-null    float64\n",
      " 5   LOSS_SCORE     776 non-null    int64  \n",
      " 6   Money_Value    775 non-null    float64\n",
      " 7   History_score  776 non-null    int64  \n",
      " 8   District       776 non-null    int64  \n",
      " 9   Risk           776 non-null    int64  \n",
      "dtypes: float64(6), int64(4)\n",
      "memory usage: 66.7 KB\n"
     ]
    }
   ],
   "source": [
    "df.info()"
   ]
  },
  {
   "cell_type": "markdown",
   "metadata": {
    "colab_type": "text",
    "id": "0mznyl7voJHz"
   },
   "source": [
    "- Conveniently all the attributes \n",
    "- There is 1 missing value in 'Money_Value' column"
   ]
  },
  {
   "cell_type": "code",
   "execution_count": 4,
   "metadata": {
    "colab": {},
    "colab_type": "code",
    "id": "pN9-E2H6oJH0"
   },
   "outputs": [
    {
     "name": "stderr",
     "output_type": "stream",
     "text": [
      "C:\\Users\\Kirthana\\AppData\\Local\\Temp\\ipykernel_13280\\2923721953.py:1: FutureWarning: A value is trying to be set on a copy of a DataFrame or Series through chained assignment using an inplace method.\n",
      "The behavior will change in pandas 3.0. This inplace method will never work because the intermediate object on which we are setting values always behaves as a copy.\n",
      "\n",
      "For example, when doing 'df[col].method(value, inplace=True)', try using 'df.method({col: value}, inplace=True)' or df[col] = df[col].method(value) instead, to perform the operation inplace on the original object.\n",
      "\n",
      "\n",
      "  df.Money_Value.fillna(value = df.Money_Value.median(), inplace=True)\n"
     ]
    }
   ],
   "source": [
    "df.Money_Value.fillna(value = df.Money_Value.median(), inplace=True)"
   ]
  },
  {
   "cell_type": "code",
   "execution_count": 5,
   "metadata": {
    "colab": {},
    "colab_type": "code",
    "id": "6huOpipcoJH4",
    "outputId": "77309b4f-3c99-4a5b-fe6f-27b29da6a9b3"
   },
   "outputs": [
    {
     "name": "stderr",
     "output_type": "stream",
     "text": [
      "C:\\Users\\Kirthana\\AppData\\Local\\Temp\\ipykernel_13280\\1919229409.py:1: FutureWarning: \n",
      "\n",
      "Passing `palette` without assigning `hue` is deprecated and will be removed in v0.14.0. Assign the `x` variable to `hue` and set `legend=False` for the same effect.\n",
      "\n",
      "  plot = sns.countplot(df.Risk, edgecolor = 'black', palette = [ '#00C851','#ff4444'])\n",
      "C:\\Users\\Kirthana\\AppData\\Local\\Temp\\ipykernel_13280\\1919229409.py:1: UserWarning: \n",
      "The palette list has fewer values (2) than needed (776) and will cycle, which may produce an uninterpretable plot.\n",
      "  plot = sns.countplot(df.Risk, edgecolor = 'black', palette = [ '#00C851','#ff4444'])\n"
     ]
    },
    {
     "data": {
      "image/png": "[encoded data removed]",
      "text/plain": [
       "<Figure size 640x480 with 1 Axes>"
      ]
     },
     "metadata": {},
     "output_type": "display_data"
    },
    {
     "name": "stdout",
     "output_type": "stream",
     "text": [
      "Percentage difference = 0.0%\n"
     ]
    }
   ],
   "source": [
    "plot = sns.countplot(df.Risk, edgecolor = 'black', palette = [ '#00C851','#ff4444'])\n",
    "\n",
    "bars = plot.patches\n",
    "\n",
    "plot.annotate(bars[0].get_height(), (0, bars[0].get_height()/2),\n",
    "              ha = 'center', fontsize = 15, color = 'black')\n",
    "\n",
    "plot.annotate(bars[1].get_height(), (1, bars[1].get_height()/2),\n",
    "              ha = 'center', fontsize = 15, color = 'black')\n",
    "\n",
    "plt.show()\n",
    "\n",
    "percentage_diff = round(100*(bars[0].get_height() - bars[1].get_height())/((bars[0].get_height() + bars[1].get_height())/2),1)\n",
    "\n",
    "print(f'Percentage difference = {percentage_diff}%')"
   ]
  },
  {
   "cell_type": "markdown",
   "metadata": {
    "colab_type": "text",
    "id": "UuwcQD5ToJH9"
   },
   "source": [
    "- That is some amount of class imbalance in the data. To put a number on it, we have calculated percentage difference(which is just one way of looking at it)\n",
    "- There are no absolute values to state if the imbalance is high or very high or low etc\n",
    "- In this case, the imbalance is not very serious"
   ]
  },
  {
   "cell_type": "code",
   "execution_count": 6,
   "metadata": {
    "colab": {},
    "colab_type": "code",
    "id": "lpisTAqAoJH_",
    "outputId": "15d4ef48-0deb-4856-bf1f-7d89cbc68165"
   },
   "outputs": [
    {
     "data": {
      "image/png": "[encoded data removed]",
      "text/plain": [
       "<Figure size 1500x1000 with 1 Axes>"
      ]
     },
     "metadata": {},
     "output_type": "display_data"
    }
   ],
   "source": [
    "def correlation_plot(df):\n",
    "    \n",
    "    corr = abs(df.corr()) # correlation matrix\n",
    "    lower_triangle = np.tril(corr, k = -1)  # select only the lower triangle of the correlation matrix\n",
    "    mask = lower_triangle == 0  # to mask the upper triangle in the following heatmap\n",
    "\n",
    "    plt.figure(figsize = (15,10))  # setting the figure size\n",
    "    sns.set_style(style = 'white')  # Setting it to white so that we do not see the grid lines\n",
    "    sns.heatmap(lower_triangle, center=0.5, cmap= 'Blues', xticklabels = corr.index,\n",
    "                yticklabels = corr.columns,cbar = False, annot= True, linewidths= 1, mask = mask)   # Da Heatmap\n",
    "    plt.show()\n",
    "    \n",
    "correlation_plot(df)"
   ]
  },
  {
   "cell_type": "markdown",
   "metadata": {
    "colab_type": "text",
    "id": "OqNWHMopoJID"
   },
   "source": [
    "- 'TOTAL' and 'PARA_B' have almost a 100% correlation\n",
    "- Let's drop 'TOTAL' "
   ]
  },
  {
   "cell_type": "code",
   "execution_count": 7,
   "metadata": {
    "colab": {},
    "colab_type": "code",
    "id": "GSNm1skdoJIE"
   },
   "outputs": [],
   "source": [
    "df.drop(columns='TOTAL', inplace=True)"
   ]
  },
  {
   "cell_type": "markdown",
   "metadata": {
    "colab_type": "text",
    "id": "KuzvpYyqoJIH"
   },
   "source": [
    "# Data prep"
   ]
  },
  {
   "cell_type": "code",
   "execution_count": 8,
   "metadata": {
    "colab": {},
    "colab_type": "code",
    "id": "3C2hvOoDoJII"
   },
   "outputs": [],
   "source": [
    "from sklearn.model_selection import train_test_split\n",
    "\n",
    "X = df.iloc[:,:-1]\n",
    "y = df.iloc[:,-1]\n",
    "\n",
    "X_train, X_test, y_train, y_test = train_test_split(X, y, stratify = y, random_state = 1)"
   ]
  },
  {
   "cell_type": "code",
   "execution_count": 9,
   "metadata": {
    "colab": {},
    "colab_type": "code",
    "id": "s3l1AyRroJIM",
    "outputId": "dc5d3c85-75a0-49fe-ad4b-fea5e228e726"
   },
   "outputs": [
    {
     "data": {
      "text/plain": [
       "Index(['PARA_A', 'PARA_B', 'Sector_score', 'numbers', 'LOSS_SCORE',\n",
       "       'Money_Value', 'History_score', 'District'],\n",
       "      dtype='object')"
      ]
     },
     "execution_count": 9,
     "metadata": {},
     "output_type": "execute_result"
    }
   ],
   "source": [
    "X_train.columns"
   ]
  },
  {
   "cell_type": "code",
   "execution_count": 10,
   "metadata": {
    "colab": {},
    "colab_type": "code",
    "id": "30_umJ3doJIV",
    "outputId": "3ff01bfd-2c5d-4886-889a-f335aca1ac3e"
   },
   "outputs": [
    {
     "data": {
      "text/plain": [
       "'Risk'"
      ]
     },
     "execution_count": 10,
     "metadata": {},
     "output_type": "execute_result"
    }
   ],
   "source": [
    "y_train.name"
   ]
  },
  {
   "cell_type": "markdown",
   "metadata": {
    "colab_type": "text",
    "id": "P8ZUd4HaoJId"
   },
   "source": [
    "# Train and Evaluate"
   ]
  },
  {
   "cell_type": "code",
   "execution_count": 11,
   "metadata": {
    "colab": {},
    "colab_type": "code",
    "id": "PJSJoAjDoJIh"
   },
   "outputs": [],
   "source": [
    "def fit_n_print(model, X_train, X_test, y_train, y_test):  # take the model, and data as inputs\n",
    "    from sklearn import metrics\n",
    "    from sklearn.model_selection import cross_val_score\n",
    "    \n",
    "    model.fit(X_train, y_train)   # fir the model with the train data\n",
    "\n",
    "    pred = model.predict(X_test)  # make predictions on the test set\n",
    "\n",
    "    score = round(model.score(X_test, y_test), 3)   # compute accuracy score for test set\n",
    "\n",
    "\n",
    "    tn, fp, fn, tp = metrics.confusion_matrix(y_test, pred).ravel()  # compute the confusion matrix from the predictions and actuals\n",
    "\n",
    "    recall = round(tp/(tp+fn), 3)   \n",
    "    precision = round(tp/(tp+fp), 3)  \n",
    "    specificity =round(tn/(tn+fp),3) \n",
    "    f1_score =  round(2*precision*recall/(precision + recall), 3)\n",
    "    \n",
    "   \n",
    "    return score, recall, precision, specificity, f1_score  # return all the metrics"
   ]
  },
  {
   "cell_type": "code",
   "execution_count": 12,
   "metadata": {
    "colab": {},
    "colab_type": "code",
    "id": "ANhKq7pPoJIk"
   },
   "outputs": [],
   "source": [
    "from sklearn.tree import DecisionTreeClassifier\n",
    "dt = DecisionTreeClassifier(random_state=1)\n",
    "\n",
    "metrics = fit_n_print(dt, X_train, X_test, y_train, y_test)"
   ]
  },
  {
   "cell_type": "code",
   "execution_count": 13,
   "metadata": {
    "colab": {},
    "colab_type": "code",
    "id": "QRmEtgeDoJIo"
   },
   "outputs": [],
   "source": [
    "result = pd.DataFrame(columns = ['score', 'recall', 'precision', 'specificity', 'f1_score'])\n",
    "\n",
    "result.loc['Decision Tree'] = metrics"
   ]
  },
  {
   "cell_type": "code",
   "execution_count": 14,
   "metadata": {
    "colab": {},
    "colab_type": "code",
    "id": "Y2Q4sMIRoJIs",
    "outputId": "842d7257-ef4f-4a7b-b565-5af7ecd9a4ad"
   },
   "outputs": [
    {
     "data": {
      "text/html": [
       "<div>\n",
       "<style scoped>\n",
       "    .dataframe tbody tr th:only-of-type {\n",
       "        vertical-align: middle;\n",
       "    }\n",
       "\n",
       "    .dataframe tbody tr th {\n",
       "        vertical-align: top;\n",
       "    }\n",
       "\n",
       "    .dataframe thead th {\n",
       "        text-align: right;\n",
       "    }\n",
       "</style>\n",
       "<table border=\"1\" class=\"dataframe\">\n",
       "  <thead>\n",
       "    <tr style=\"text-align: right;\">\n",
       "      <th></th>\n",
       "      <th>score</th>\n",
       "      <th>recall</th>\n",
       "      <th>precision</th>\n",
       "      <th>specificity</th>\n",
       "      <th>f1_score</th>\n",
       "    </tr>\n",
       "  </thead>\n",
       "  <tbody>\n",
       "    <tr>\n",
       "      <th>Decision Tree</th>\n",
       "      <td>0.995</td>\n",
       "      <td>0.992</td>\n",
       "      <td>1.0</td>\n",
       "      <td>1.0</td>\n",
       "      <td>0.996</td>\n",
       "    </tr>\n",
       "  </tbody>\n",
       "</table>\n",
       "</div>"
      ],
      "text/plain": [
       "               score  recall  precision  specificity  f1_score\n",
       "Decision Tree  0.995   0.992        1.0          1.0     0.996"
      ]
     },
     "execution_count": 14,
     "metadata": {},
     "output_type": "execute_result"
    }
   ],
   "source": [
    "result"
   ]
  },
  {
   "cell_type": "markdown",
   "metadata": {
    "colab_type": "text",
    "id": "--eTNhE1oJIy"
   },
   "source": [
    "- Some of the scores are 100%\n",
    "- Let's check out the feature importances using the trained decision tree model"
   ]
  },
  {
   "cell_type": "code",
   "execution_count": 16,
   "metadata": {
    "colab": {},
    "colab_type": "code",
    "id": "oYee43T2oJI0",
    "outputId": "7d228e22-1687-4536-cf61-85f808ee1b88"
   },
   "outputs": [
    {
     "data": {
      "text/html": [
       "<div>\n",
       "<style scoped>\n",
       "    .dataframe tbody tr th:only-of-type {\n",
       "        vertical-align: middle;\n",
       "    }\n",
       "\n",
       "    .dataframe tbody tr th {\n",
       "        vertical-align: top;\n",
       "    }\n",
       "\n",
       "    .dataframe thead th {\n",
       "        text-align: right;\n",
       "    }\n",
       "</style>\n",
       "<table border=\"1\" class=\"dataframe\">\n",
       "  <thead>\n",
       "    <tr style=\"text-align: right;\">\n",
       "      <th></th>\n",
       "      <th>features</th>\n",
       "      <th>Importance</th>\n",
       "    </tr>\n",
       "  </thead>\n",
       "  <tbody>\n",
       "    <tr>\n",
       "      <th>0</th>\n",
       "      <td>PARA_A</td>\n",
       "      <td>0.549965</td>\n",
       "    </tr>\n",
       "    <tr>\n",
       "      <th>1</th>\n",
       "      <td>PARA_B</td>\n",
       "      <td>0.173436</td>\n",
       "    </tr>\n",
       "    <tr>\n",
       "      <th>2</th>\n",
       "      <td>Sector_score</td>\n",
       "      <td>0.015055</td>\n",
       "    </tr>\n",
       "    <tr>\n",
       "      <th>3</th>\n",
       "      <td>numbers</td>\n",
       "      <td>0.014001</td>\n",
       "    </tr>\n",
       "    <tr>\n",
       "      <th>4</th>\n",
       "      <td>LOSS_SCORE</td>\n",
       "      <td>0.014263</td>\n",
       "    </tr>\n",
       "    <tr>\n",
       "      <th>5</th>\n",
       "      <td>Money_Value</td>\n",
       "      <td>0.047043</td>\n",
       "    </tr>\n",
       "    <tr>\n",
       "      <th>6</th>\n",
       "      <td>History_score</td>\n",
       "      <td>0.000000</td>\n",
       "    </tr>\n",
       "    <tr>\n",
       "      <th>7</th>\n",
       "      <td>District</td>\n",
       "      <td>0.186238</td>\n",
       "    </tr>\n",
       "  </tbody>\n",
       "</table>\n",
       "</div>"
      ],
      "text/plain": [
       "        features  Importance\n",
       "0         PARA_A    0.549965\n",
       "1         PARA_B    0.173436\n",
       "2   Sector_score    0.015055\n",
       "3        numbers    0.014001\n",
       "4     LOSS_SCORE    0.014263\n",
       "5    Money_Value    0.047043\n",
       "6  History_score    0.000000\n",
       "7       District    0.186238"
      ]
     },
     "execution_count": 16,
     "metadata": {},
     "output_type": "execute_result"
    }
   ],
   "source": [
    "feature_importances = pd.DataFrame({'features': X_train.columns, 'Importance': dt.feature_importances_})\n",
    "feature_importances"
   ]
  },
  {
   "cell_type": "markdown",
   "metadata": {
    "colab_type": "text",
    "id": "TB9fKkONoJI4"
   },
   "source": [
    "- What would be the performance if we were to train the models by picking out features based on the above \"importances\" ?"
   ]
  },
  {
   "cell_type": "code",
   "execution_count": 17,
   "metadata": {
    "colab": {},
    "colab_type": "code",
    "id": "bcj3_g2noJI6",
    "outputId": "77ae4769-5e8e-440b-d595-d6d5c4b3a25b"
   },
   "outputs": [
    {
     "data": {
      "text/plain": [
       "['PARA_A', 'PARA_B', 'District']"
      ]
     },
     "execution_count": 17,
     "metadata": {},
     "output_type": "execute_result"
    }
   ],
   "source": [
    "most_important = list(feature_importances[feature_importances.Importance > 0.1].features)\n",
    "most_important"
   ]
  },
  {
   "cell_type": "code",
   "execution_count": 18,
   "metadata": {
    "colab": {},
    "colab_type": "code",
    "id": "LYUPJf9ToJJG"
   },
   "outputs": [],
   "source": [
    "X = df.loc[:,most_important]\n",
    "y = df.iloc[:,-1]\n",
    "\n",
    "X_train, X_test, y_train, y_test = train_test_split(X, y, stratify = y, random_state = 1)\n",
    "\n",
    "result.loc['Decision Tree with important variables'] = fit_n_print(dt, X_train, X_test, y_train, y_test)"
   ]
  },
  {
   "cell_type": "markdown",
   "metadata": {
    "colab_type": "text",
    "id": "n6_eFa6hqm1k"
   },
   "source": [
    "# Result"
   ]
  },
  {
   "cell_type": "code",
   "execution_count": 19,
   "metadata": {
    "colab": {},
    "colab_type": "code",
    "id": "TjmnHgpBoJJK",
    "outputId": "fe0f7e3d-0142-42b6-e1c8-0e1e799b77b6"
   },
   "outputs": [
    {
     "data": {
      "text/html": [
       "<div>\n",
       "<style scoped>\n",
       "    .dataframe tbody tr th:only-of-type {\n",
       "        vertical-align: middle;\n",
       "    }\n",
       "\n",
       "    .dataframe tbody tr th {\n",
       "        vertical-align: top;\n",
       "    }\n",
       "\n",
       "    .dataframe thead th {\n",
       "        text-align: right;\n",
       "    }\n",
       "</style>\n",
       "<table border=\"1\" class=\"dataframe\">\n",
       "  <thead>\n",
       "    <tr style=\"text-align: right;\">\n",
       "      <th></th>\n",
       "      <th>score</th>\n",
       "      <th>recall</th>\n",
       "      <th>precision</th>\n",
       "      <th>specificity</th>\n",
       "      <th>f1_score</th>\n",
       "    </tr>\n",
       "  </thead>\n",
       "  <tbody>\n",
       "    <tr>\n",
       "      <th>Decision Tree</th>\n",
       "      <td>0.995</td>\n",
       "      <td>0.992</td>\n",
       "      <td>1.000</td>\n",
       "      <td>1.000</td>\n",
       "      <td>0.996</td>\n",
       "    </tr>\n",
       "    <tr>\n",
       "      <th>Decision Tree with important variables</th>\n",
       "      <td>0.948</td>\n",
       "      <td>0.943</td>\n",
       "      <td>0.975</td>\n",
       "      <td>0.958</td>\n",
       "      <td>0.959</td>\n",
       "    </tr>\n",
       "  </tbody>\n",
       "</table>\n",
       "</div>"
      ],
      "text/plain": [
       "                                        score  recall  precision  specificity  \\\n",
       "Decision Tree                           0.995   0.992      1.000        1.000   \n",
       "Decision Tree with important variables  0.948   0.943      0.975        0.958   \n",
       "\n",
       "                                        f1_score  \n",
       "Decision Tree                              0.996  \n",
       "Decision Tree with important variables     0.959  "
      ]
     },
     "execution_count": 19,
     "metadata": {},
     "output_type": "execute_result"
    }
   ],
   "source": [
    "result"
   ]
  }
 ],
 "metadata": {
  "colab": {
   "collapsed_sections": [],
   "name": "Audit risk.ipynb",
   "provenance": []
  },
  "kernelspec": {
   "display_name": "base",
   "language": "python",
   "name": "python3"
  },
  "language_info": {
   "codemirror_mode": {
    "name": "ipython",
    "version": 3
   },
   "file_extension": ".py",
   "mimetype": "text/x-python",
   "name": "python",
   "nbconvert_exporter": "python",
   "pygments_lexer": "ipython3",
   "version": "3.12.7"
  }
 },
 "nbformat": 4,
 "nbformat_minor": 1
}
